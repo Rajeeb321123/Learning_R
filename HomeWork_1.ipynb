{
  "nbformat": 4,
  "nbformat_minor": 0,
  "metadata": {
    "colab": {
      "provenance": [],
      "authorship_tag": "ABX9TyNL4zsCNOvquOU0M1PyuEaC",
      "include_colab_link": true
    },
    "kernelspec": {
      "name": "python3",
      "display_name": "Python 3"
    },
    "language_info": {
      "name": "python"
    }
  },
  "cells": [
    {
      "cell_type": "markdown",
      "metadata": {
        "id": "view-in-github",
        "colab_type": "text"
      },
      "source": [
        "<a href=\"https://colab.research.google.com/github/Rajeeb321123/Learning_R/blob/master/HomeWork_1.ipynb\" target=\"_parent\"><img src=\"https://colab.research.google.com/assets/colab-badge.svg\" alt=\"Open In Colab\"/></a>"
      ]
    },
    {
      "cell_type": "markdown",
      "source": [
        "# HW 1"
      ],
      "metadata": {
        "id": "cg4d9S5UDmor"
      }
    },
    {
      "cell_type": "code",
      "execution_count": null,
      "metadata": {
        "colab": {
          "base_uri": "https://localhost:8080/"
        },
        "id": "UBxTZ4f66Z4r",
        "outputId": "d129f94d-89c7-44c8-b0ef-28193edb6eca"
      },
      "outputs": [
        {
          "output_type": "stream",
          "name": "stderr",
          "text": [
            "Installing package into ‘/usr/local/lib/R/site-library’\n",
            "(as ‘lib’ is unspecified)\n",
            "\n",
            "also installing the dependency ‘plyr’\n",
            "\n",
            "\n"
          ]
        },
        {
          "output_type": "stream",
          "name": "stdout",
          "text": [
            "   total_bill  tip    sex smoker day   time size\n",
            "1       16.99 1.01 Female     No Sun Dinner    2\n",
            "2       10.34 1.66   Male     No Sun Dinner    3\n",
            "3       21.01 3.50   Male     No Sun Dinner    3\n",
            "4       23.68 3.31   Male     No Sun Dinner    2\n",
            "5       24.59 3.61 Female     No Sun Dinner    4\n",
            "6       25.29 4.71   Male     No Sun Dinner    4\n",
            "7        8.77 2.00   Male     No Sun Dinner    2\n",
            "8       26.88 3.12   Male     No Sun Dinner    4\n",
            "9       15.04 1.96   Male     No Sun Dinner    2\n",
            "10      14.78 3.23   Male     No Sun Dinner    2\n",
            "11      10.27 1.71   Male     No Sun Dinner    2\n",
            "12      35.26 5.00 Female     No Sun Dinner    4\n",
            "13      15.42 1.57   Male     No Sun Dinner    2\n",
            "14      18.43 3.00   Male     No Sun Dinner    4\n",
            "15      14.83 3.02 Female     No Sun Dinner    2\n",
            "16      21.58 3.92   Male     No Sun Dinner    2\n",
            "17      10.33 1.67 Female     No Sun Dinner    3\n",
            "18      16.29 3.71   Male     No Sun Dinner    3\n",
            "19      16.97 3.50 Female     No Sun Dinner    3\n",
            "20      20.65 3.35   Male     No Sat Dinner    3\n",
            "21      17.92 4.08   Male     No Sat Dinner    2\n",
            "22      20.29 2.75 Female     No Sat Dinner    2\n",
            "23      15.77 2.23 Female     No Sat Dinner    2\n",
            "24      39.42 7.58   Male     No Sat Dinner    4\n",
            "25      19.82 3.18   Male     No Sat Dinner    2\n",
            "26      17.81 2.34   Male     No Sat Dinner    4\n",
            "27      13.37 2.00   Male     No Sat Dinner    2\n",
            "28      12.69 2.00   Male     No Sat Dinner    2\n",
            "29      21.70 4.30   Male     No Sat Dinner    2\n",
            "30      19.65 3.00 Female     No Sat Dinner    2\n",
            "31       9.55 1.45   Male     No Sat Dinner    2\n",
            "32      18.35 2.50   Male     No Sat Dinner    4\n",
            "33      15.06 3.00 Female     No Sat Dinner    2\n",
            "34      20.69 2.45 Female     No Sat Dinner    4\n",
            "35      17.78 3.27   Male     No Sat Dinner    2\n",
            "36      24.06 3.60   Male     No Sat Dinner    3\n",
            "37      16.31 2.00   Male     No Sat Dinner    3\n",
            "38      16.93 3.07 Female     No Sat Dinner    3\n",
            "39      18.69 2.31   Male     No Sat Dinner    3\n",
            "40      31.27 5.00   Male     No Sat Dinner    3\n"
          ]
        }
      ],
      "source": [
        "install.packages('reshape2')\n",
        "library(reshape2)\n",
        "attach(tips)\n",
        "\n",
        "print(tips[1:40,])"
      ]
    },
    {
      "cell_type": "markdown",
      "source": [
        "## Question_1: Produce a one-way frequency distribution of the day when the customers dined at the restaurant.\n"
      ],
      "metadata": {
        "id": "bFjXGlozOUIC"
      }
    },
    {
      "cell_type": "code",
      "source": [
        "# Solution_Question_1\n",
        "DAYS = factor(tips$day, labels = c('Sun','Thur','Fri','Sat'))\n",
        "print(table(DAYS))"
      ],
      "metadata": {
        "colab": {
          "base_uri": "https://localhost:8080/"
        },
        "id": "KJcCKOOvEtfi",
        "outputId": "444bb4b9-bba4-43d0-b290-4963bef07766"
      },
      "execution_count": null,
      "outputs": [
        {
          "output_type": "stream",
          "name": "stdout",
          "text": [
            "DAYS\n",
            " Sun Thur  Fri  Sat \n",
            "  19   87   76   62 \n"
          ]
        }
      ]
    },
    {
      "cell_type": "markdown",
      "source": [
        "## Question_2: Produce a two-way frequency distribution of the day and time when the customers dined at the restaurant.\n"
      ],
      "metadata": {
        "id": "N8lB0j_NOYUM"
      }
    },
    {
      "cell_type": "code",
      "source": [
        "# Solution_Question_2\n",
        "TIME = factor(tips$time, labels= c('Lunch','Dinner'))\n",
        "print(table(DAYS, TIME))"
      ],
      "metadata": {
        "colab": {
          "base_uri": "https://localhost:8080/"
        },
        "id": "nt_7XIH-In2s",
        "outputId": "a674f2a2-f696-41bf-d4db-180470abc587"
      },
      "execution_count": null,
      "outputs": [
        {
          "output_type": "stream",
          "name": "stdout",
          "text": [
            "      TIME\n",
            "DAYS   Lunch Dinner\n",
            "  Sun     12      7\n",
            "  Thur    87      0\n",
            "  Fri     76      0\n",
            "  Sat      1     61\n"
          ]
        }
      ]
    },
    {
      "cell_type": "markdown",
      "source": [
        "## Question_3: Produce a three-way relative frequency distribution of the paying customers’ gender and if they were at a smoking table, separated by the day on which they dined at the restaurant (i.e. produce a two-way table for each day).\n"
      ],
      "metadata": {
        "id": "_xIaVJ4lObro"
      }
    },
    {
      "cell_type": "code",
      "source": [
        "# Solution_Question_3\n",
        "GENDERS = factor(tips$sex,labels = c('MALE','FEMALE'))\n",
        "SMOKERS = factor(tips$smoker, labels = c('Yes', 'No'))\n",
        "\n",
        "print(table(GENDERS, SMOKERS, DAYS)/length(DAYS))"
      ],
      "metadata": {
        "colab": {
          "base_uri": "https://localhost:8080/"
        },
        "id": "8ZTa1pFuI7SU",
        "outputId": "6bdefa33-f681-4126-fb31-e25e51acd234"
      },
      "execution_count": null,
      "outputs": [
        {
          "output_type": "stream",
          "name": "stdout",
          "text": [
            ", , DAYS = Sun\n",
            "\n",
            "        SMOKERS\n",
            "GENDERS          Yes          No\n",
            "  MALE   0.008196721 0.028688525\n",
            "  FEMALE 0.008196721 0.032786885\n",
            "\n",
            ", , DAYS = Thur\n",
            "\n",
            "        SMOKERS\n",
            "GENDERS          Yes          No\n",
            "  MALE   0.053278689 0.061475410\n",
            "  FEMALE 0.131147541 0.110655738\n",
            "\n",
            ", , DAYS = Fri\n",
            "\n",
            "        SMOKERS\n",
            "GENDERS          Yes          No\n",
            "  MALE   0.057377049 0.016393443\n",
            "  FEMALE 0.176229508 0.061475410\n",
            "\n",
            ", , DAYS = Sat\n",
            "\n",
            "        SMOKERS\n",
            "GENDERS          Yes          No\n",
            "  MALE   0.102459016 0.028688525\n",
            "  FEMALE 0.081967213 0.040983607\n",
            "\n"
          ]
        }
      ]
    },
    {
      "cell_type": "markdown",
      "source": [
        "## Question_4: Produce a relative frequency bar plot of the day of the week when the customers dined at the restaurant.\n"
      ],
      "metadata": {
        "id": "CALnaoAXOmHK"
      }
    },
    {
      "cell_type": "code",
      "source": [
        "# Solution_Question_4\n",
        "barplot(table(DAYS)/length(DAYS),ylab=\"Days\",xlab=\"Relative Frequency\",col=\"yellow\",horiz = T)"
      ],
      "metadata": {
        "colab": {
          "base_uri": "https://localhost:8080/",
          "height": 437
        },
        "id": "Zpn_O7TnJ478",
        "outputId": "8ee5e813-5558-4653-aba9-32ee5009714a"
      },
      "execution_count": null,
      "outputs": [
        {
          "output_type": "display_data",
          "data": {
            "text/plain": [
              "plot without title"
            ],
            "image/png": "[encoded data removed]"
          },
          "metadata": {
            "image/png": {
              "width": 420,
              "height": 420
            }
          }
        }
      ]
    },
    {
      "cell_type": "markdown",
      "source": [
        "## Question_5: Produce a two-way grouped bar plot of sex and day of the week. Use the horizontal axis to represent day of the week.\n"
      ],
      "metadata": {
        "id": "WvH-1syTOs1j"
      }
    },
    {
      "cell_type": "code",
      "source": [
        "# Solution_Question_5\n",
        "customer.table <- table(GENDERS,DAYS)\n",
        "print(paste(\"Genders are:\", paste(rownames(customer.table), collapse = \" and \"))) # Use paste to combine strings\n",
        "barplot(customer.table,\n",
        "        xlab =\"Days of the week\",\n",
        "        ylab=\"Frequency\",\n",
        "        col=c(\"red\", \"pink\"),\n",
        "        beside =T,\n",
        "        legend=rownames(customer.table),\n",
        "        args.legend=list(x = \"topright\",\n",
        "        bty = \"n\"))"
      ],
      "metadata": {
        "colab": {
          "base_uri": "https://localhost:8080/",
          "height": 454
        },
        "id": "GLxU3OFIKlEm",
        "outputId": "172ce167-d515-4a24-b616-b8a591ade75e"
      },
      "execution_count": null,
      "outputs": [
        {
          "output_type": "stream",
          "name": "stdout",
          "text": [
            "[1] \"Genders are: MALE and FEMALE\"\n"
          ]
        },
        {
          "output_type": "display_data",
          "data": {
            "text/plain": [
              "plot without title"
            ],
            "image/png": "[encoded data removed]"
          },
          "metadata": {
            "image/png": {
              "width": 420,
              "height": 420
            }
          }
        }
      ]
    },
    {
      "cell_type": "markdown",
      "source": [
        "## Question_6: Produce a table of the total bill cost using seven classes. In the table, include the frequency distribution, relative frequency distribution, cumulative frequency distribution, and cumulative relative frequency distribution.\n"
      ],
      "metadata": {
        "id": "4W6jziZLNKo2"
      }
    },
    {
      "cell_type": "code",
      "source": [
        "print(tips[1:10,])"
      ],
      "metadata": {
        "colab": {
          "base_uri": "https://localhost:8080/"
        },
        "id": "cJvRh8QvMBQt",
        "outputId": "a613fcb4-a02b-4adf-dd80-3a3da125c4e1"
      },
      "execution_count": null,
      "outputs": [
        {
          "output_type": "stream",
          "name": "stdout",
          "text": [
            "   total_bill  tip    sex smoker day   time size\n",
            "1       16.99 1.01 Female     No Sun Dinner    2\n",
            "2       10.34 1.66   Male     No Sun Dinner    3\n",
            "3       21.01 3.50   Male     No Sun Dinner    3\n",
            "4       23.68 3.31   Male     No Sun Dinner    2\n",
            "5       24.59 3.61 Female     No Sun Dinner    4\n",
            "6       25.29 4.71   Male     No Sun Dinner    4\n",
            "7        8.77 2.00   Male     No Sun Dinner    2\n",
            "8       26.88 3.12   Male     No Sun Dinner    4\n",
            "9       15.04 1.96   Male     No Sun Dinner    2\n",
            "10      14.78 3.23   Male     No Sun Dinner    2\n"
          ]
        }
      ]
    },
    {
      "cell_type": "code",
      "source": [
        "# Remove rows with any NA values\n",
        "tips_clean <- na.omit(tips)\n",
        "print(paste(\"The number for tips_clean\", nrow(tips_clean),\"and for tips:\", nrow(tips)))"
      ],
      "metadata": {
        "colab": {
          "base_uri": "https://localhost:8080/"
        },
        "id": "jx8wTH-xMMup",
        "outputId": "4ba7837b-b6be-4064-9d61-90ed95eb7d3c"
      },
      "execution_count": null,
      "outputs": [
        {
          "output_type": "stream",
          "name": "stdout",
          "text": [
            "[1] \"The number for tips_clean 244 and for tips: 244\"\n"
          ]
        }
      ]
    },
    {
      "cell_type": "code",
      "source": [
        "min_total_bill <- min(tips_clean$total_bill)\n",
        "max_total_bill <- max(tips_clean$total_bill)\n",
        "print(paste(max_total_bill, min_total_bill))"
      ],
      "metadata": {
        "colab": {
          "base_uri": "https://localhost:8080/"
        },
        "id": "ipZ1-mg2UPAY",
        "outputId": "3907aef7-07f4-4f5a-9e58-6b3cdd43b6b0"
      },
      "execution_count": null,
      "outputs": [
        {
          "output_type": "stream",
          "name": "stdout",
          "text": [
            "[1] \"50.81 3.07\"\n"
          ]
        }
      ]
    },
    {
      "cell_type": "code",
      "source": [
        "number_of_classes <- 7\n",
        "#round up the number so max value can be included in classes\n",
        "class_width <- ceiling((max_total_bill - min_total_bill)/number_of_classes)\n",
        "print(class_width)"
      ],
      "metadata": {
        "colab": {
          "base_uri": "https://localhost:8080/"
        },
        "id": "xLFAmZj4WcEo",
        "outputId": "fe42c05c-4c78-4307-9db4-d609dae367ef"
      },
      "execution_count": null,
      "outputs": [
        {
          "output_type": "stream",
          "name": "stdout",
          "text": [
            "[1] 7\n"
          ]
        }
      ]
    },
    {
      "cell_type": "code",
      "source": [
        "numeric(number_of_classes)"
      ],
      "metadata": {
        "colab": {
          "base_uri": "https://localhost:8080/",
          "height": 34
        },
        "id": "bZH8R9h-siSD",
        "outputId": "29c461fd-1eee-45c2-d0fb-7d2ffcb0d78b"
      },
      "execution_count": null,
      "outputs": [
        {
          "output_type": "display_data",
          "data": {
            "text/html": [
              "<style>\n",
              ".list-inline {list-style: none; margin:0; padding: 0}\n",
              ".list-inline>li {display: inline-block}\n",
              ".list-inline>li:not(:last-child)::after {content: \"\\00b7\"; padding: 0 .5ex}\n",
              "</style>\n",
              "<ol class=list-inline><li>0</li><li>0</li><li>0</li><li>0</li><li>0</li><li>0</li><li>0</li></ol>\n"
            ],
            "text/markdown": "1. 0\n2. 0\n3. 0\n4. 0\n5. 0\n6. 0\n7. 0\n\n\n",
            "text/latex": "\\begin{enumerate*}\n\\item 0\n\\item 0\n\\item 0\n\\item 0\n\\item 0\n\\item 0\n\\item 0\n\\end{enumerate*}\n",
            "text/plain": [
              "[1] 0 0 0 0 0 0 0"
            ]
          },
          "metadata": {}
        }
      ]
    },
    {
      "cell_type": "code",
      "source": [
        "1:number_of_classes"
      ],
      "metadata": {
        "colab": {
          "base_uri": "https://localhost:8080/",
          "height": 34
        },
        "id": "ue5sdtWws8Sz",
        "outputId": "a179ead2-effe-49d1-da84-94b3c83cbcbf"
      },
      "execution_count": null,
      "outputs": [
        {
          "output_type": "display_data",
          "data": {
            "text/html": [
              "<style>\n",
              ".list-inline {list-style: none; margin:0; padding: 0}\n",
              ".list-inline>li {display: inline-block}\n",
              ".list-inline>li:not(:last-child)::after {content: \"\\00b7\"; padding: 0 .5ex}\n",
              "</style>\n",
              "<ol class=list-inline><li>1</li><li>2</li><li>3</li><li>4</li><li>5</li><li>6</li><li>7</li></ol>\n"
            ],
            "text/markdown": "1. 1\n2. 2\n3. 3\n4. 4\n5. 5\n6. 6\n7. 7\n\n\n",
            "text/latex": "\\begin{enumerate*}\n\\item 1\n\\item 2\n\\item 3\n\\item 4\n\\item 5\n\\item 6\n\\item 7\n\\end{enumerate*}\n",
            "text/plain": [
              "[1] 1 2 3 4 5 6 7"
            ]
          },
          "metadata": {}
        }
      ]
    },
    {
      "cell_type": "code",
      "source": [
        "# Initialize the iterable numbers for for-loop below\n",
        "limits <- numeric(number_of_classes)\n",
        "\n",
        "# For loop : creating classes programmatically\n",
        "for (i in 1:number_of_classes) {\n",
        "  if (i == 1) {\n",
        "    limits[i] <- min_total_bill\n",
        "  }\n",
        "  else{\n",
        "    limits[i] <- limits[i-1] + class_width\n",
        "    print(i)\n",
        "  }\n",
        "}\n",
        "\n",
        "#adding the last value in classes\n",
        "LIMIT = c(limits, limits[number_of_classes] + class_width)\n",
        "print(LIMIT)"
      ],
      "metadata": {
        "colab": {
          "base_uri": "https://localhost:8080/"
        },
        "id": "VXp8L5eiW3LQ",
        "outputId": "f5f97def-179d-4ae5-f4eb-b79ee986f58e"
      },
      "execution_count": null,
      "outputs": [
        {
          "output_type": "stream",
          "name": "stdout",
          "text": [
            "[1] 2\n",
            "[1] 3\n",
            "[1] 4\n",
            "[1] 5\n",
            "[1] 6\n",
            "[1] 7\n",
            "[1]  3.07 10.07 17.07 24.07 31.07 38.07 45.07 52.07\n"
          ]
        }
      ]
    },
    {
      "cell_type": "code",
      "source": [
        "## both way below are same\n",
        "# total_bill_numeric_vector <- na.omit(total_bill)\n",
        "# total_bill_numeric_vector\n",
        "\n",
        "total_bill_numeric_vector <-  tips_clean$total_bill\n",
        "print(total_bill_numeric_vector)"
      ],
      "metadata": {
        "colab": {
          "base_uri": "https://localhost:8080/"
        },
        "id": "htWTPiTfbKeT",
        "outputId": "c5c2569e-8e58-4345-849e-d586e7afc028"
      },
      "execution_count": null,
      "outputs": [
        {
          "output_type": "stream",
          "name": "stdout",
          "text": [
            "  [1] 16.99 10.34 21.01 23.68 24.59 25.29  8.77 26.88 15.04 14.78 10.27 35.26\n",
            " [13] 15.42 18.43 14.83 21.58 10.33 16.29 16.97 20.65 17.92 20.29 15.77 39.42\n",
            " [25] 19.82 17.81 13.37 12.69 21.70 19.65  9.55 18.35 15.06 20.69 17.78 24.06\n",
            " [37] 16.31 16.93 18.69 31.27 16.04 17.46 13.94  9.68 30.40 18.29 22.23 32.40\n",
            " [49] 28.55 18.04 12.54 10.29 34.81  9.94 25.56 19.49 38.01 26.41 11.24 48.27\n",
            " [61] 20.29 13.81 11.02 18.29 17.59 20.08 16.45  3.07 20.23 15.01 12.02 17.07\n",
            " [73] 26.86 25.28 14.73 10.51 17.92 27.20 22.76 17.29 19.44 16.66 10.07 32.68\n",
            " [85] 15.98 34.83 13.03 18.28 24.71 21.16 28.97 22.49  5.75 16.32 22.75 40.17\n",
            " [97] 27.28 12.03 21.01 12.46 11.35 15.38 44.30 22.42 20.92 15.36 20.49 25.21\n",
            "[109] 18.24 14.31 14.00  7.25 38.07 23.95 25.71 17.31 29.93 10.65 12.43 24.08\n",
            "[121] 11.69 13.42 14.26 15.95 12.48 29.80  8.52 14.52 11.38 22.82 19.08 20.27\n",
            "[133] 11.17 12.26 18.26  8.51 10.33 14.15 16.00 13.16 17.47 34.30 41.19 27.05\n",
            "[145] 16.43  8.35 18.64 11.87  9.78  7.51 14.07 13.13 17.26 24.55 19.77 29.85\n",
            "[157] 48.17 25.00 13.39 16.49 21.50 12.66 16.21 13.81 17.51 24.52 20.76 31.71\n",
            "[169] 10.59 10.63 50.81 15.81  7.25 31.85 16.82 32.90 17.89 14.48  9.60 34.63\n",
            "[181] 34.65 23.33 45.35 23.17 40.55 20.69 20.90 30.46 18.15 23.10 15.69 19.81\n",
            "[193] 28.44 15.48 16.58  7.56 10.34 43.11 13.00 13.51 18.71 12.74 13.00 16.40\n",
            "[205] 20.53 16.47 26.59 38.73 24.27 12.76 30.06 25.89 48.33 13.27 28.17 12.90\n",
            "[217] 28.15 11.59  7.74 30.14 12.16 13.42  8.58 15.98 13.42 16.27 10.09 20.45\n",
            "[229] 13.28 22.12 24.01 15.69 11.61 10.77 15.53 10.07 12.60 32.83 35.83 29.03\n",
            "[241] 27.18 22.67 17.82 18.78\n"
          ]
        }
      ]
    },
    {
      "cell_type": "code",
      "source": [
        "total_bill.assign <- cut(total_bill_numeric_vector, LIMIT, right=FALSE ,dig.lab=5)\n",
        "print(total_bill.assign)"
      ],
      "metadata": {
        "colab": {
          "base_uri": "https://localhost:8080/"
        },
        "id": "conADhXIcHIm",
        "outputId": "112b9e48-33d9-4e75-8a98-9cd397cdbaee"
      },
      "execution_count": null,
      "outputs": [
        {
          "output_type": "stream",
          "name": "stdout",
          "text": [
            "  [1] [10.07,17.07) [10.07,17.07) [17.07,24.07) [17.07,24.07) [24.07,31.07)\n",
            "  [6] [24.07,31.07) [3.07,10.07)  [24.07,31.07) [10.07,17.07) [10.07,17.07)\n",
            " [11] [10.07,17.07) [31.07,38.07) [10.07,17.07) [17.07,24.07) [10.07,17.07)\n",
            " [16] [17.07,24.07) [10.07,17.07) [10.07,17.07) [10.07,17.07) [17.07,24.07)\n",
            " [21] [17.07,24.07) [17.07,24.07) [10.07,17.07) [38.07,45.07) [17.07,24.07)\n",
            " [26] [17.07,24.07) [10.07,17.07) [10.07,17.07) [17.07,24.07) [17.07,24.07)\n",
            " [31] [3.07,10.07)  [17.07,24.07) [10.07,17.07) [17.07,24.07) [17.07,24.07)\n",
            " [36] [17.07,24.07) [10.07,17.07) [10.07,17.07) [17.07,24.07) [31.07,38.07)\n",
            " [41] [10.07,17.07) [17.07,24.07) [10.07,17.07) [3.07,10.07)  [24.07,31.07)\n",
            " [46] [17.07,24.07) [17.07,24.07) [31.07,38.07) [24.07,31.07) [17.07,24.07)\n",
            " [51] [10.07,17.07) [10.07,17.07) [31.07,38.07) [3.07,10.07)  [24.07,31.07)\n",
            " [56] [17.07,24.07) [31.07,38.07) [24.07,31.07) [10.07,17.07) [45.07,52.07)\n",
            " [61] [17.07,24.07) [10.07,17.07) [10.07,17.07) [17.07,24.07) [17.07,24.07)\n",
            " [66] [17.07,24.07) [10.07,17.07) [3.07,10.07)  [17.07,24.07) [10.07,17.07)\n",
            " [71] [10.07,17.07) [17.07,24.07) [24.07,31.07) [24.07,31.07) [10.07,17.07)\n",
            " [76] [10.07,17.07) [17.07,24.07) [24.07,31.07) [17.07,24.07) [17.07,24.07)\n",
            " [81] [17.07,24.07) [10.07,17.07) [10.07,17.07) [31.07,38.07) [10.07,17.07)\n",
            " [86] [31.07,38.07) [10.07,17.07) [17.07,24.07) [24.07,31.07) [17.07,24.07)\n",
            " [91] [24.07,31.07) [17.07,24.07) [3.07,10.07)  [10.07,17.07) [17.07,24.07)\n",
            " [96] [38.07,45.07) [24.07,31.07) [10.07,17.07) [17.07,24.07) [10.07,17.07)\n",
            "[101] [10.07,17.07) [10.07,17.07) [38.07,45.07) [17.07,24.07) [17.07,24.07)\n",
            "[106] [10.07,17.07) [17.07,24.07) [24.07,31.07) [17.07,24.07) [10.07,17.07)\n",
            "[111] [10.07,17.07) [3.07,10.07)  [38.07,45.07) [17.07,24.07) [24.07,31.07)\n",
            "[116] [17.07,24.07) [24.07,31.07) [10.07,17.07) [10.07,17.07) [24.07,31.07)\n",
            "[121] [10.07,17.07) [10.07,17.07) [10.07,17.07) [10.07,17.07) [10.07,17.07)\n",
            "[126] [24.07,31.07) [3.07,10.07)  [10.07,17.07) [10.07,17.07) [17.07,24.07)\n",
            "[131] [17.07,24.07) [17.07,24.07) [10.07,17.07) [10.07,17.07) [17.07,24.07)\n",
            "[136] [3.07,10.07)  [10.07,17.07) [10.07,17.07) [10.07,17.07) [10.07,17.07)\n",
            "[141] [17.07,24.07) [31.07,38.07) [38.07,45.07) [24.07,31.07) [10.07,17.07)\n",
            "[146] [3.07,10.07)  [17.07,24.07) [10.07,17.07) [3.07,10.07)  [3.07,10.07) \n",
            "[151] [10.07,17.07) [10.07,17.07) [17.07,24.07) [24.07,31.07) [17.07,24.07)\n",
            "[156] [24.07,31.07) [45.07,52.07) [24.07,31.07) [10.07,17.07) [10.07,17.07)\n",
            "[161] [17.07,24.07) [10.07,17.07) [10.07,17.07) [10.07,17.07) [17.07,24.07)\n",
            "[166] [24.07,31.07) [17.07,24.07) [31.07,38.07) [10.07,17.07) [10.07,17.07)\n",
            "[171] [45.07,52.07) [10.07,17.07) [3.07,10.07)  [31.07,38.07) [10.07,17.07)\n",
            "[176] [31.07,38.07) [17.07,24.07) [10.07,17.07) [3.07,10.07)  [31.07,38.07)\n",
            "[181] [31.07,38.07) [17.07,24.07) [45.07,52.07) [17.07,24.07) [38.07,45.07)\n",
            "[186] [17.07,24.07) [17.07,24.07) [24.07,31.07) [17.07,24.07) [17.07,24.07)\n",
            "[191] [10.07,17.07) [17.07,24.07) [24.07,31.07) [10.07,17.07) [10.07,17.07)\n",
            "[196] [3.07,10.07)  [10.07,17.07) [38.07,45.07) [10.07,17.07) [10.07,17.07)\n",
            "[201] [17.07,24.07) [10.07,17.07) [10.07,17.07) [10.07,17.07) [17.07,24.07)\n",
            "[206] [10.07,17.07) [24.07,31.07) [38.07,45.07) [24.07,31.07) [10.07,17.07)\n",
            "[211] [24.07,31.07) [24.07,31.07) [45.07,52.07) [10.07,17.07) [24.07,31.07)\n",
            "[216] [10.07,17.07) [24.07,31.07) [10.07,17.07) [3.07,10.07)  [24.07,31.07)\n",
            "[221] [10.07,17.07) [10.07,17.07) [3.07,10.07)  [10.07,17.07) [10.07,17.07)\n",
            "[226] [10.07,17.07) [10.07,17.07) [17.07,24.07) [10.07,17.07) [17.07,24.07)\n",
            "[231] [17.07,24.07) [10.07,17.07) [10.07,17.07) [10.07,17.07) [10.07,17.07)\n",
            "[236] [10.07,17.07) [10.07,17.07) [31.07,38.07) [31.07,38.07) [24.07,31.07)\n",
            "[241] [24.07,31.07) [17.07,24.07) [17.07,24.07) [17.07,24.07)\n",
            "7 Levels: [3.07,10.07) [10.07,17.07) [17.07,24.07) ... [45.07,52.07)\n"
          ]
        }
      ]
    },
    {
      "cell_type": "code",
      "source": [
        "total_bill.freq <- cbind(table(total_bill.assign))\n",
        "print(total_bill.freq)"
      ],
      "metadata": {
        "colab": {
          "base_uri": "https://localhost:8080/"
        },
        "id": "17KNab0Udln-",
        "outputId": "230fe2a9-df85-45c4-ae91-c6525c23238a"
      },
      "execution_count": null,
      "outputs": [
        {
          "output_type": "stream",
          "name": "stdout",
          "text": [
            "              [,1]\n",
            "[3.07,10.07)    17\n",
            "[10.07,17.07)   96\n",
            "[17.07,24.07)   69\n",
            "[24.07,31.07)   34\n",
            "[31.07,38.07)   15\n",
            "[38.07,45.07)    8\n",
            "[45.07,52.07)    5\n"
          ]
        }
      ]
    },
    {
      "cell_type": "code",
      "source": [
        "total_bill.relfreq <- cbind(table(total_bill.assign)/length(total_bill_numeric_vector))\n",
        "print(total_bill.relfreq)"
      ],
      "metadata": {
        "colab": {
          "base_uri": "https://localhost:8080/"
        },
        "id": "tY8t676ke5sm",
        "outputId": "8b85bfb7-c441-4e20-ec46-61739c23e406"
      },
      "execution_count": null,
      "outputs": [
        {
          "output_type": "stream",
          "name": "stdout",
          "text": [
            "                    [,1]\n",
            "[3.07,10.07)  0.06967213\n",
            "[10.07,17.07) 0.39344262\n",
            "[17.07,24.07) 0.28278689\n",
            "[24.07,31.07) 0.13934426\n",
            "[31.07,38.07) 0.06147541\n",
            "[38.07,45.07) 0.03278689\n",
            "[45.07,52.07) 0.02049180\n"
          ]
        }
      ]
    },
    {
      "cell_type": "code",
      "source": [
        "total_bill.cumfreq <- cumsum(cbind(total_bill.freq))\n",
        "total_bill.cumrelfreq <- cumsum(total_bill.freq/length(total_bill_numeric_vector))\n",
        "print(total_bill.cumfreq)\n",
        "print(total_bill.cumrelfreq)"
      ],
      "metadata": {
        "colab": {
          "base_uri": "https://localhost:8080/"
        },
        "id": "mbLlaAXxfQMQ",
        "outputId": "548df372-0fe8-455f-f242-bb3f6b43f361"
      },
      "execution_count": null,
      "outputs": [
        {
          "output_type": "stream",
          "name": "stdout",
          "text": [
            "[1]  17 113 182 216 231 239 244\n",
            "[1] 0.06967213 0.46311475 0.74590164 0.88524590 0.94672131 0.97950820 1.00000000\n"
          ]
        }
      ]
    },
    {
      "cell_type": "code",
      "source": [
        "combined_data <- cbind(total_bill.freq, total_bill.cumfreq, total_bill.relfreq, total_bill.cumrelfreq)\n",
        "print(combined_data)"
      ],
      "metadata": {
        "colab": {
          "base_uri": "https://localhost:8080/"
        },
        "id": "g7fLFb36gDr8",
        "outputId": "1eb85075-99a5-4f25-a5e5-7a39eff47e24"
      },
      "execution_count": null,
      "outputs": [
        {
          "output_type": "stream",
          "name": "stdout",
          "text": [
            "                 total_bill.cumfreq            total_bill.cumrelfreq\n",
            "[3.07,10.07)  17                 17 0.06967213            0.06967213\n",
            "[10.07,17.07) 96                113 0.39344262            0.46311475\n",
            "[17.07,24.07) 69                182 0.28278689            0.74590164\n",
            "[24.07,31.07) 34                216 0.13934426            0.88524590\n",
            "[31.07,38.07) 15                231 0.06147541            0.94672131\n",
            "[38.07,45.07)  8                239 0.03278689            0.97950820\n",
            "[45.07,52.07)  5                244 0.02049180            1.00000000\n"
          ]
        }
      ]
    },
    {
      "cell_type": "code",
      "source": [
        "# Solution of Question_6\n",
        "df <- data.frame(\n",
        "  Frequency = total_bill.freq,\n",
        "  Cu_frequency = total_bill.cumfreq,\n",
        "  Rel_frequency = total_bill.relfreq,\n",
        "  Cu_Rel_Frequency = total_bill.cumrelfreq\n",
        ")\n",
        "print(df)\n",
        "# cumulative frequency is equal to total number of data so answer must be right"
      ],
      "metadata": {
        "colab": {
          "base_uri": "https://localhost:8080/"
        },
        "id": "O_cwRhC6gkIi",
        "outputId": "7ff02d95-4188-42fa-a034-c522b567e272"
      },
      "execution_count": null,
      "outputs": [
        {
          "output_type": "stream",
          "name": "stdout",
          "text": [
            "              Frequency Cu_frequency Rel_frequency Cu_Rel_Frequency\n",
            "[3.07,10.07)         17           17    0.06967213       0.06967213\n",
            "[10.07,17.07)        96          113    0.39344262       0.46311475\n",
            "[17.07,24.07)        69          182    0.28278689       0.74590164\n",
            "[24.07,31.07)        34          216    0.13934426       0.88524590\n",
            "[31.07,38.07)        15          231    0.06147541       0.94672131\n",
            "[38.07,45.07)         8          239    0.03278689       0.97950820\n",
            "[45.07,52.07)         5          244    0.02049180       1.00000000\n"
          ]
        }
      ]
    },
    {
      "cell_type": "markdown",
      "source": [
        "## Question_7: Produce a frequency histogram of the total bill cost using the class breaks in Question 6."
      ],
      "metadata": {
        "id": "TA4tI6dhl3Uw"
      }
    },
    {
      "cell_type": "code",
      "source": [
        "print(total_bill_numeric_vector)"
      ],
      "metadata": {
        "colab": {
          "base_uri": "https://localhost:8080/"
        },
        "id": "BAXcpTVGpZ66",
        "outputId": "d880f2fd-a4a6-463c-e2da-615653b4fe57"
      },
      "execution_count": null,
      "outputs": [
        {
          "output_type": "stream",
          "name": "stdout",
          "text": [
            "  [1] 16.99 10.34 21.01 23.68 24.59 25.29  8.77 26.88 15.04 14.78 10.27 35.26\n",
            " [13] 15.42 18.43 14.83 21.58 10.33 16.29 16.97 20.65 17.92 20.29 15.77 39.42\n",
            " [25] 19.82 17.81 13.37 12.69 21.70 19.65  9.55 18.35 15.06 20.69 17.78 24.06\n",
            " [37] 16.31 16.93 18.69 31.27 16.04 17.46 13.94  9.68 30.40 18.29 22.23 32.40\n",
            " [49] 28.55 18.04 12.54 10.29 34.81  9.94 25.56 19.49 38.01 26.41 11.24 48.27\n",
            " [61] 20.29 13.81 11.02 18.29 17.59 20.08 16.45  3.07 20.23 15.01 12.02 17.07\n",
            " [73] 26.86 25.28 14.73 10.51 17.92 27.20 22.76 17.29 19.44 16.66 10.07 32.68\n",
            " [85] 15.98 34.83 13.03 18.28 24.71 21.16 28.97 22.49  5.75 16.32 22.75 40.17\n",
            " [97] 27.28 12.03 21.01 12.46 11.35 15.38 44.30 22.42 20.92 15.36 20.49 25.21\n",
            "[109] 18.24 14.31 14.00  7.25 38.07 23.95 25.71 17.31 29.93 10.65 12.43 24.08\n",
            "[121] 11.69 13.42 14.26 15.95 12.48 29.80  8.52 14.52 11.38 22.82 19.08 20.27\n",
            "[133] 11.17 12.26 18.26  8.51 10.33 14.15 16.00 13.16 17.47 34.30 41.19 27.05\n",
            "[145] 16.43  8.35 18.64 11.87  9.78  7.51 14.07 13.13 17.26 24.55 19.77 29.85\n",
            "[157] 48.17 25.00 13.39 16.49 21.50 12.66 16.21 13.81 17.51 24.52 20.76 31.71\n",
            "[169] 10.59 10.63 50.81 15.81  7.25 31.85 16.82 32.90 17.89 14.48  9.60 34.63\n",
            "[181] 34.65 23.33 45.35 23.17 40.55 20.69 20.90 30.46 18.15 23.10 15.69 19.81\n",
            "[193] 28.44 15.48 16.58  7.56 10.34 43.11 13.00 13.51 18.71 12.74 13.00 16.40\n",
            "[205] 20.53 16.47 26.59 38.73 24.27 12.76 30.06 25.89 48.33 13.27 28.17 12.90\n",
            "[217] 28.15 11.59  7.74 30.14 12.16 13.42  8.58 15.98 13.42 16.27 10.09 20.45\n",
            "[229] 13.28 22.12 24.01 15.69 11.61 10.77 15.53 10.07 12.60 32.83 35.83 29.03\n",
            "[241] 27.18 22.67 17.82 18.78\n"
          ]
        }
      ]
    },
    {
      "cell_type": "code",
      "source": [
        "print(LIMIT)"
      ],
      "metadata": {
        "colab": {
          "base_uri": "https://localhost:8080/"
        },
        "id": "c6gyrBHuv5R8",
        "outputId": "d9d74dcc-7649-4049-c5b1-75f5e260b855"
      },
      "execution_count": null,
      "outputs": [
        {
          "output_type": "stream",
          "name": "stdout",
          "text": [
            "[1]  3.07 10.07 17.07 24.07 31.07 38.07 45.07 52.07\n"
          ]
        }
      ]
    },
    {
      "cell_type": "code",
      "source": [
        "# Solution of Question_7\n",
        "hist(total_bill_numeric_vector, breaks = LIMIT, col = \"skyblue\")"
      ],
      "metadata": {
        "colab": {
          "base_uri": "https://localhost:8080/",
          "height": 437
        },
        "id": "I9DxLE5oqRae",
        "outputId": "e1184587-dcf6-4094-d6a3-42d91277c92e"
      },
      "execution_count": null,
      "outputs": [
        {
          "output_type": "display_data",
          "data": {
            "text/plain": [
              "Plot with title “Histogram of total_bill_numeric_vector”"
            ],
            "image/png": "[encoded data removed]"
          },
          "metadata": {
            "image/png": {
              "width": 420,
              "height": 420
            }
          }
        }
      ]
    },
    {
      "cell_type": "markdown",
      "source": [
        "## Question_8: Produce relative frequency histograms of the total bill cost separated by day using the class breaks in Question 6.  "
      ],
      "metadata": {
        "id": "9IHCzw8IqlrB"
      }
    },
    {
      "cell_type": "code",
      "source": [
        "install.packages(\"lattice\")\n",
        "library(lattice)"
      ],
      "metadata": {
        "colab": {
          "base_uri": "https://localhost:8080/"
        },
        "id": "HZe8EUDFxABH",
        "outputId": "aa478baf-bb68-4946-85fc-5dc29c1b172b"
      },
      "execution_count": null,
      "outputs": [
        {
          "output_type": "stream",
          "name": "stderr",
          "text": [
            "Installing package into ‘/usr/local/lib/R/site-library’\n",
            "(as ‘lib’ is unspecified)\n",
            "\n"
          ]
        }
      ]
    },
    {
      "cell_type": "code",
      "source": [
        "print(total_bill_numeric_vector)"
      ],
      "metadata": {
        "colab": {
          "base_uri": "https://localhost:8080/"
        },
        "id": "8TlihSFZxccN",
        "outputId": "bfb8299e-ead8-458e-8139-e60c0988bfc9"
      },
      "execution_count": null,
      "outputs": [
        {
          "output_type": "stream",
          "name": "stdout",
          "text": [
            "  [1] 16.99 10.34 21.01 23.68 24.59 25.29  8.77 26.88 15.04 14.78 10.27 35.26\n",
            " [13] 15.42 18.43 14.83 21.58 10.33 16.29 16.97 20.65 17.92 20.29 15.77 39.42\n",
            " [25] 19.82 17.81 13.37 12.69 21.70 19.65  9.55 18.35 15.06 20.69 17.78 24.06\n",
            " [37] 16.31 16.93 18.69 31.27 16.04 17.46 13.94  9.68 30.40 18.29 22.23 32.40\n",
            " [49] 28.55 18.04 12.54 10.29 34.81  9.94 25.56 19.49 38.01 26.41 11.24 48.27\n",
            " [61] 20.29 13.81 11.02 18.29 17.59 20.08 16.45  3.07 20.23 15.01 12.02 17.07\n",
            " [73] 26.86 25.28 14.73 10.51 17.92 27.20 22.76 17.29 19.44 16.66 10.07 32.68\n",
            " [85] 15.98 34.83 13.03 18.28 24.71 21.16 28.97 22.49  5.75 16.32 22.75 40.17\n",
            " [97] 27.28 12.03 21.01 12.46 11.35 15.38 44.30 22.42 20.92 15.36 20.49 25.21\n",
            "[109] 18.24 14.31 14.00  7.25 38.07 23.95 25.71 17.31 29.93 10.65 12.43 24.08\n",
            "[121] 11.69 13.42 14.26 15.95 12.48 29.80  8.52 14.52 11.38 22.82 19.08 20.27\n",
            "[133] 11.17 12.26 18.26  8.51 10.33 14.15 16.00 13.16 17.47 34.30 41.19 27.05\n",
            "[145] 16.43  8.35 18.64 11.87  9.78  7.51 14.07 13.13 17.26 24.55 19.77 29.85\n",
            "[157] 48.17 25.00 13.39 16.49 21.50 12.66 16.21 13.81 17.51 24.52 20.76 31.71\n",
            "[169] 10.59 10.63 50.81 15.81  7.25 31.85 16.82 32.90 17.89 14.48  9.60 34.63\n",
            "[181] 34.65 23.33 45.35 23.17 40.55 20.69 20.90 30.46 18.15 23.10 15.69 19.81\n",
            "[193] 28.44 15.48 16.58  7.56 10.34 43.11 13.00 13.51 18.71 12.74 13.00 16.40\n",
            "[205] 20.53 16.47 26.59 38.73 24.27 12.76 30.06 25.89 48.33 13.27 28.17 12.90\n",
            "[217] 28.15 11.59  7.74 30.14 12.16 13.42  8.58 15.98 13.42 16.27 10.09 20.45\n",
            "[229] 13.28 22.12 24.01 15.69 11.61 10.77 15.53 10.07 12.60 32.83 35.83 29.03\n",
            "[241] 27.18 22.67 17.82 18.78\n"
          ]
        }
      ]
    },
    {
      "cell_type": "code",
      "source": [
        "# Solution_question_8\n",
        "histogram(~total_bill_numeric_vector | day, breaks=LIMIT)"
      ],
      "metadata": {
        "colab": {
          "base_uri": "https://localhost:8080/",
          "height": 437
        },
        "id": "ywTby1UPxJUy",
        "outputId": "2c1a3014-f8ae-417e-d513-adb362409e18"
      },
      "execution_count": null,
      "outputs": [
        {
          "output_type": "display_data",
          "data": {
            "text/plain": [
              "plot without title"
            ],
            "image/png": "[encoded data removed]"
          },
          "metadata": {
            "image/png": {
              "width": 420,
              "height": 420
            }
          }
        }
      ]
    },
    {
      "cell_type": "markdown",
      "source": [
        "## Question_9: Produce a scatterplot showing the total bill cost on the horizontal axis and the tip amount on the vertical axis."
      ],
      "metadata": {
        "id": "OWjzZTCbxVQG"
      }
    },
    {
      "cell_type": "code",
      "source": [
        "tip <- na.omit(tip)\n",
        "\n",
        "#or\n",
        "# tip <- tips_clean$tip"
      ],
      "metadata": {
        "id": "E4pLz61AxyxG"
      },
      "execution_count": null,
      "outputs": []
    },
    {
      "cell_type": "code",
      "source": [
        "tip"
      ],
      "metadata": {
        "colab": {
          "base_uri": "https://localhost:8080/",
          "height": 139
        },
        "id": "6Dkx00YezOO8",
        "outputId": "73eed79f-9a11-4124-a931-79b425463d88"
      },
      "execution_count": null,
      "outputs": [
        {
          "output_type": "display_data",
          "data": {
            "text/html": [
              "<style>\n",
              ".list-inline {list-style: none; margin:0; padding: 0}\n",
              ".list-inline>li {display: inline-block}\n",
              ".list-inline>li:not(:last-child)::after {content: \"\\00b7\"; padding: 0 .5ex}\n",
              "</style>\n",
              "<ol class=list-inline><li>1.01</li><li>1.66</li><li>3.5</li><li>3.31</li><li>3.61</li><li>4.71</li><li>2</li><li>3.12</li><li>1.96</li><li>3.23</li><li>1.71</li><li>5</li><li>1.57</li><li>3</li><li>3.02</li><li>3.92</li><li>1.67</li><li>3.71</li><li>3.5</li><li>3.35</li><li>4.08</li><li>2.75</li><li>2.23</li><li>7.58</li><li>3.18</li><li>2.34</li><li>2</li><li>2</li><li>4.3</li><li>3</li><li>1.45</li><li>2.5</li><li>3</li><li>2.45</li><li>3.27</li><li>3.6</li><li>2</li><li>3.07</li><li>2.31</li><li>5</li><li>2.24</li><li>2.54</li><li>3.06</li><li>1.32</li><li>5.6</li><li>3</li><li>5</li><li>6</li><li>2.05</li><li>3</li><li>2.5</li><li>2.6</li><li>5.2</li><li>1.56</li><li>4.34</li><li>3.51</li><li>3</li><li>1.5</li><li>1.76</li><li>6.73</li><li>3.21</li><li>2</li><li>1.98</li><li>3.76</li><li>2.64</li><li>3.15</li><li>2.47</li><li>1</li><li>2.01</li><li>2.09</li><li>1.97</li><li>3</li><li>3.14</li><li>5</li><li>2.2</li><li>1.25</li><li>3.08</li><li>4</li><li>3</li><li>2.71</li><li>3</li><li>3.4</li><li>1.83</li><li>5</li><li>2.03</li><li>5.17</li><li>2</li><li>4</li><li>5.85</li><li>3</li><li>3</li><li>3.5</li><li>1</li><li>4.3</li><li>3.25</li><li>4.73</li><li>4</li><li>1.5</li><li>3</li><li>1.5</li><li>2.5</li><li>3</li><li>2.5</li><li>3.48</li><li>4.08</li><li>1.64</li><li>4.06</li><li>4.29</li><li>3.76</li><li>4</li><li>3</li><li>1</li><li>4</li><li>2.55</li><li>4</li><li>3.5</li><li>5.07</li><li>1.5</li><li>1.8</li><li>2.92</li><li>2.31</li><li>1.68</li><li>2.5</li><li>2</li><li>2.52</li><li>4.2</li><li>1.48</li><li>2</li><li>2</li><li>2.18</li><li>1.5</li><li>2.83</li><li>1.5</li><li>2</li><li>3.25</li><li>1.25</li><li>2</li><li>2</li><li>2</li><li>2.75</li><li>3.5</li><li>6.7</li><li>5</li><li>5</li><li>2.3</li><li>1.5</li><li>1.36</li><li>1.63</li><li>1.73</li><li>2</li><li>2.5</li><li>2</li><li>2.74</li><li>2</li><li>2</li><li>5.14</li><li>5</li><li>3.75</li><li>2.61</li><li>2</li><li>3.5</li><li>2.5</li><li>2</li><li>2</li><li>3</li><li>3.48</li><li>2.24</li><li>4.5</li><li>1.61</li><li>2</li><li>10</li><li>3.16</li><li>5.15</li><li>3.18</li><li>4</li><li>3.11</li><li>2</li><li>2</li><li>4</li><li>3.55</li><li>3.68</li><li>5.65</li><li>3.5</li><li>6.5</li><li>3</li><li>5</li><li>3.5</li><li>2</li><li>3.5</li><li>4</li><li>1.5</li><li>4.19</li><li>2.56</li><li>2.02</li><li>4</li><li>1.44</li><li>2</li><li>5</li><li>2</li><li>2</li><li>4</li><li>2.01</li><li>2</li><li>2.5</li><li>4</li><li>3.23</li><li>3.41</li><li>3</li><li>2.03</li><li>2.23</li><li>2</li><li>5.16</li><li>9</li><li>2.5</li><li>6.5</li><li>1.1</li><li>3</li><li>1.5</li><li>1.44</li><li>3.09</li><li>2.2</li><li>3.48</li><li>1.92</li><li>3</li><li>1.58</li><li>2.5</li><li>2</li><li>3</li><li>2.72</li><li>2.88</li><li>2</li><li>3</li><li>3.39</li><li>1.47</li><li>3</li><li>1.25</li><li>1</li><li>1.17</li><li>4.67</li><li>5.92</li><li>2</li><li>2</li><li>1.75</li><li>3</li></ol>\n"
            ],
            "text/markdown": "1. 1.01\n2. 1.66\n3. 3.5\n4. 3.31\n5. 3.61\n6. 4.71\n7. 2\n8. 3.12\n9. 1.96\n10. 3.23\n11. 1.71\n12. 5\n13. 1.57\n14. 3\n15. 3.02\n16. 3.92\n17. 1.67\n18. 3.71\n19. 3.5\n20. 3.35\n21. 4.08\n22. 2.75\n23. 2.23\n24. 7.58\n25. 3.18\n26. 2.34\n27. 2\n28. 2\n29. 4.3\n30. 3\n31. 1.45\n32. 2.5\n33. 3\n34. 2.45\n35. 3.27\n36. 3.6\n37. 2\n38. 3.07\n39. 2.31\n40. 5\n41. 2.24\n42. 2.54\n43. 3.06\n44. 1.32\n45. 5.6\n46. 3\n47. 5\n48. 6\n49. 2.05\n50. 3\n51. 2.5\n52. 2.6\n53. 5.2\n54. 1.56\n55. 4.34\n56. 3.51\n57. 3\n58. 1.5\n59. 1.76\n60. 6.73\n61. 3.21\n62. 2\n63. 1.98\n64. 3.76\n65. 2.64\n66. 3.15\n67. 2.47\n68. 1\n69. 2.01\n70. 2.09\n71. 1.97\n72. 3\n73. 3.14\n74. 5\n75. 2.2\n76. 1.25\n77. 3.08\n78. 4\n79. 3\n80. 2.71\n81. 3\n82. 3.4\n83. 1.83\n84. 5\n85. 2.03\n86. 5.17\n87. 2\n88. 4\n89. 5.85\n90. 3\n91. 3\n92. 3.5\n93. 1\n94. 4.3\n95. 3.25\n96. 4.73\n97. 4\n98. 1.5\n99. 3\n100. 1.5\n101. 2.5\n102. 3\n103. 2.5\n104. 3.48\n105. 4.08\n106. 1.64\n107. 4.06\n108. 4.29\n109. 3.76\n110. 4\n111. 3\n112. 1\n113. 4\n114. 2.55\n115. 4\n116. 3.5\n117. 5.07\n118. 1.5\n119. 1.8\n120. 2.92\n121. 2.31\n122. 1.68\n123. 2.5\n124. 2\n125. 2.52\n126. 4.2\n127. 1.48\n128. 2\n129. 2\n130. 2.18\n131. 1.5\n132. 2.83\n133. 1.5\n134. 2\n135. 3.25\n136. 1.25\n137. 2\n138. 2\n139. 2\n140. 2.75\n141. 3.5\n142. 6.7\n143. 5\n144. 5\n145. 2.3\n146. 1.5\n147. 1.36\n148. 1.63\n149. 1.73\n150. 2\n151. 2.5\n152. 2\n153. 2.74\n154. 2\n155. 2\n156. 5.14\n157. 5\n158. 3.75\n159. 2.61\n160. 2\n161. 3.5\n162. 2.5\n163. 2\n164. 2\n165. 3\n166. 3.48\n167. 2.24\n168. 4.5\n169. 1.61\n170. 2\n171. 10\n172. 3.16\n173. 5.15\n174. 3.18\n175. 4\n176. 3.11\n177. 2\n178. 2\n179. 4\n180. 3.55\n181. 3.68\n182. 5.65\n183. 3.5\n184. 6.5\n185. 3\n186. 5\n187. 3.5\n188. 2\n189. 3.5\n190. 4\n191. 1.5\n192. 4.19\n193. 2.56\n194. 2.02\n195. 4\n196. 1.44\n197. 2\n198. 5\n199. 2\n200. 2\n201. 4\n202. 2.01\n203. 2\n204. 2.5\n205. 4\n206. 3.23\n207. 3.41\n208. 3\n209. 2.03\n210. 2.23\n211. 2\n212. 5.16\n213. 9\n214. 2.5\n215. 6.5\n216. 1.1\n217. 3\n218. 1.5\n219. 1.44\n220. 3.09\n221. 2.2\n222. 3.48\n223. 1.92\n224. 3\n225. 1.58\n226. 2.5\n227. 2\n228. 3\n229. 2.72\n230. 2.88\n231. 2\n232. 3\n233. 3.39\n234. 1.47\n235. 3\n236. 1.25\n237. 1\n238. 1.17\n239. 4.67\n240. 5.92\n241. 2\n242. 2\n243. 1.75\n244. 3\n\n\n",
            "text/latex": "\\begin{enumerate*}\n\\item 1.01\n\\item 1.66\n\\item 3.5\n\\item 3.31\n\\item 3.61\n\\item 4.71\n\\item 2\n\\item 3.12\n\\item 1.96\n\\item 3.23\n\\item 1.71\n\\item 5\n\\item 1.57\n\\item 3\n\\item 3.02\n\\item 3.92\n\\item 1.67\n\\item 3.71\n\\item 3.5\n\\item 3.35\n\\item 4.08\n\\item 2.75\n\\item 2.23\n\\item 7.58\n\\item 3.18\n\\item 2.34\n\\item 2\n\\item 2\n\\item 4.3\n\\item 3\n\\item 1.45\n\\item 2.5\n\\item 3\n\\item 2.45\n\\item 3.27\n\\item 3.6\n\\item 2\n\\item 3.07\n\\item 2.31\n\\item 5\n\\item 2.24\n\\item 2.54\n\\item 3.06\n\\item 1.32\n\\item 5.6\n\\item 3\n\\item 5\n\\item 6\n\\item 2.05\n\\item 3\n\\item 2.5\n\\item 2.6\n\\item 5.2\n\\item 1.56\n\\item 4.34\n\\item 3.51\n\\item 3\n\\item 1.5\n\\item 1.76\n\\item 6.73\n\\item 3.21\n\\item 2\n\\item 1.98\n\\item 3.76\n\\item 2.64\n\\item 3.15\n\\item 2.47\n\\item 1\n\\item 2.01\n\\item 2.09\n\\item 1.97\n\\item 3\n\\item 3.14\n\\item 5\n\\item 2.2\n\\item 1.25\n\\item 3.08\n\\item 4\n\\item 3\n\\item 2.71\n\\item 3\n\\item 3.4\n\\item 1.83\n\\item 5\n\\item 2.03\n\\item 5.17\n\\item 2\n\\item 4\n\\item 5.85\n\\item 3\n\\item 3\n\\item 3.5\n\\item 1\n\\item 4.3\n\\item 3.25\n\\item 4.73\n\\item 4\n\\item 1.5\n\\item 3\n\\item 1.5\n\\item 2.5\n\\item 3\n\\item 2.5\n\\item 3.48\n\\item 4.08\n\\item 1.64\n\\item 4.06\n\\item 4.29\n\\item 3.76\n\\item 4\n\\item 3\n\\item 1\n\\item 4\n\\item 2.55\n\\item 4\n\\item 3.5\n\\item 5.07\n\\item 1.5\n\\item 1.8\n\\item 2.92\n\\item 2.31\n\\item 1.68\n\\item 2.5\n\\item 2\n\\item 2.52\n\\item 4.2\n\\item 1.48\n\\item 2\n\\item 2\n\\item 2.18\n\\item 1.5\n\\item 2.83\n\\item 1.5\n\\item 2\n\\item 3.25\n\\item 1.25\n\\item 2\n\\item 2\n\\item 2\n\\item 2.75\n\\item 3.5\n\\item 6.7\n\\item 5\n\\item 5\n\\item 2.3\n\\item 1.5\n\\item 1.36\n\\item 1.63\n\\item 1.73\n\\item 2\n\\item 2.5\n\\item 2\n\\item 2.74\n\\item 2\n\\item 2\n\\item 5.14\n\\item 5\n\\item 3.75\n\\item 2.61\n\\item 2\n\\item 3.5\n\\item 2.5\n\\item 2\n\\item 2\n\\item 3\n\\item 3.48\n\\item 2.24\n\\item 4.5\n\\item 1.61\n\\item 2\n\\item 10\n\\item 3.16\n\\item 5.15\n\\item 3.18\n\\item 4\n\\item 3.11\n\\item 2\n\\item 2\n\\item 4\n\\item 3.55\n\\item 3.68\n\\item 5.65\n\\item 3.5\n\\item 6.5\n\\item 3\n\\item 5\n\\item 3.5\n\\item 2\n\\item 3.5\n\\item 4\n\\item 1.5\n\\item 4.19\n\\item 2.56\n\\item 2.02\n\\item 4\n\\item 1.44\n\\item 2\n\\item 5\n\\item 2\n\\item 2\n\\item 4\n\\item 2.01\n\\item 2\n\\item 2.5\n\\item 4\n\\item 3.23\n\\item 3.41\n\\item 3\n\\item 2.03\n\\item 2.23\n\\item 2\n\\item 5.16\n\\item 9\n\\item 2.5\n\\item 6.5\n\\item 1.1\n\\item 3\n\\item 1.5\n\\item 1.44\n\\item 3.09\n\\item 2.2\n\\item 3.48\n\\item 1.92\n\\item 3\n\\item 1.58\n\\item 2.5\n\\item 2\n\\item 3\n\\item 2.72\n\\item 2.88\n\\item 2\n\\item 3\n\\item 3.39\n\\item 1.47\n\\item 3\n\\item 1.25\n\\item 1\n\\item 1.17\n\\item 4.67\n\\item 5.92\n\\item 2\n\\item 2\n\\item 1.75\n\\item 3\n\\end{enumerate*}\n",
            "text/plain": [
              "  [1]  1.01  1.66  3.50  3.31  3.61  4.71  2.00  3.12  1.96  3.23  1.71  5.00\n",
              " [13]  1.57  3.00  3.02  3.92  1.67  3.71  3.50  3.35  4.08  2.75  2.23  7.58\n",
              " [25]  3.18  2.34  2.00  2.00  4.30  3.00  1.45  2.50  3.00  2.45  3.27  3.60\n",
              " [37]  2.00  3.07  2.31  5.00  2.24  2.54  3.06  1.32  5.60  3.00  5.00  6.00\n",
              " [49]  2.05  3.00  2.50  2.60  5.20  1.56  4.34  3.51  3.00  1.50  1.76  6.73\n",
              " [61]  3.21  2.00  1.98  3.76  2.64  3.15  2.47  1.00  2.01  2.09  1.97  3.00\n",
              " [73]  3.14  5.00  2.20  1.25  3.08  4.00  3.00  2.71  3.00  3.40  1.83  5.00\n",
              " [85]  2.03  5.17  2.00  4.00  5.85  3.00  3.00  3.50  1.00  4.30  3.25  4.73\n",
              " [97]  4.00  1.50  3.00  1.50  2.50  3.00  2.50  3.48  4.08  1.64  4.06  4.29\n",
              "[109]  3.76  4.00  3.00  1.00  4.00  2.55  4.00  3.50  5.07  1.50  1.80  2.92\n",
              "[121]  2.31  1.68  2.50  2.00  2.52  4.20  1.48  2.00  2.00  2.18  1.50  2.83\n",
              "[133]  1.50  2.00  3.25  1.25  2.00  2.00  2.00  2.75  3.50  6.70  5.00  5.00\n",
              "[145]  2.30  1.50  1.36  1.63  1.73  2.00  2.50  2.00  2.74  2.00  2.00  5.14\n",
              "[157]  5.00  3.75  2.61  2.00  3.50  2.50  2.00  2.00  3.00  3.48  2.24  4.50\n",
              "[169]  1.61  2.00 10.00  3.16  5.15  3.18  4.00  3.11  2.00  2.00  4.00  3.55\n",
              "[181]  3.68  5.65  3.50  6.50  3.00  5.00  3.50  2.00  3.50  4.00  1.50  4.19\n",
              "[193]  2.56  2.02  4.00  1.44  2.00  5.00  2.00  2.00  4.00  2.01  2.00  2.50\n",
              "[205]  4.00  3.23  3.41  3.00  2.03  2.23  2.00  5.16  9.00  2.50  6.50  1.10\n",
              "[217]  3.00  1.50  1.44  3.09  2.20  3.48  1.92  3.00  1.58  2.50  2.00  3.00\n",
              "[229]  2.72  2.88  2.00  3.00  3.39  1.47  3.00  1.25  1.00  1.17  4.67  5.92\n",
              "[241]  2.00  2.00  1.75  3.00"
            ]
          },
          "metadata": {}
        }
      ]
    },
    {
      "cell_type": "code",
      "source": [
        "# Solution_question_9\n",
        "plot(total_bill_numeric_vector, tip)"
      ],
      "metadata": {
        "colab": {
          "base_uri": "https://localhost:8080/",
          "height": 437
        },
        "id": "tWfRmI0SzPci",
        "outputId": "9b34dbbc-7a15-4e30-91d1-56086f37e8de"
      },
      "execution_count": null,
      "outputs": [
        {
          "output_type": "display_data",
          "data": {
            "text/plain": [
              "plot without title"
            ],
            "image/png": "[encoded data removed]"
          },
          "metadata": {
            "image/png": {
              "width": 420,
              "height": 420
            }
          }
        }
      ]
    },
    {
      "cell_type": "markdown",
      "source": [
        "## Question_10: _Produce a scatterplot showing the total bill cost on the horizontal axis and the tip amount on the vertical axis, color coded by day of the week."
      ],
      "metadata": {
        "id": "ufIjoyB80fDn"
      }
    },
    {
      "cell_type": "code",
      "source": [
        "print(DAYS)"
      ],
      "metadata": {
        "colab": {
          "base_uri": "https://localhost:8080/"
        },
        "id": "kkLXyacE1_in",
        "outputId": "ac93111e-e247-4d3e-fdc5-7d0274649294"
      },
      "execution_count": null,
      "outputs": [
        {
          "output_type": "stream",
          "name": "stdout",
          "text": [
            "  [1] Fri  Fri  Fri  Fri  Fri  Fri  Fri  Fri  Fri  Fri  Fri  Fri  Fri  Fri  Fri \n",
            " [16] Fri  Fri  Fri  Fri  Thur Thur Thur Thur Thur Thur Thur Thur Thur Thur Thur\n",
            " [31] Thur Thur Thur Thur Thur Thur Thur Thur Thur Thur Thur Fri  Fri  Fri  Fri \n",
            " [46] Fri  Fri  Fri  Fri  Fri  Fri  Fri  Fri  Fri  Fri  Fri  Thur Thur Thur Thur\n",
            " [61] Thur Thur Thur Thur Thur Thur Thur Thur Thur Thur Thur Thur Thur Thur Thur\n",
            " [76] Thur Thur Sat  Sat  Sat  Sat  Sat  Sat  Sat  Sat  Sat  Sat  Sat  Sat  Sat \n",
            " [91] Sun  Sun  Sun  Sun  Sun  Sun  Sun  Sun  Sun  Sun  Sun  Sun  Thur Thur Thur\n",
            "[106] Thur Thur Thur Thur Thur Thur Thur Fri  Fri  Fri  Fri  Fri  Sat  Sat  Sat \n",
            "[121] Sat  Sat  Sat  Sat  Sat  Sat  Sat  Sat  Sat  Sat  Sat  Sat  Sat  Sat  Sat \n",
            "[136] Sat  Sat  Sat  Sat  Sat  Sat  Sat  Sat  Sat  Sat  Sat  Sat  Sat  Sat  Sat \n",
            "[151] Fri  Fri  Fri  Fri  Fri  Fri  Fri  Fri  Fri  Fri  Fri  Fri  Fri  Fri  Fri \n",
            "[166] Fri  Fri  Fri  Thur Thur Thur Thur Fri  Fri  Fri  Fri  Fri  Fri  Fri  Fri \n",
            "[181] Fri  Fri  Fri  Fri  Fri  Fri  Fri  Fri  Fri  Fri  Fri  Sat  Sat  Sat  Sat \n",
            "[196] Sat  Sat  Sat  Sat  Sat  Sat  Sat  Sat  Sat  Sat  Sat  Thur Thur Thur Thur\n",
            "[211] Thur Thur Thur Thur Thur Thur Thur Thur Thur Thur Sun  Sun  Sun  Sun  Sun \n",
            "[226] Sun  Sun  Thur Thur Thur Thur Thur Thur Thur Thur Thur Thur Thur Thur Thur\n",
            "[241] Thur Thur Thur Sat \n",
            "Levels: Sun Thur Fri Sat\n"
          ]
        }
      ]
    },
    {
      "cell_type": "code",
      "source": [
        "print(table(DAYS))"
      ],
      "metadata": {
        "colab": {
          "base_uri": "https://localhost:8080/"
        },
        "id": "2A3aD5Ah2Myw",
        "outputId": "9811dc9a-731d-4979-ef7e-3833b3be5ab8"
      },
      "execution_count": null,
      "outputs": [
        {
          "output_type": "stream",
          "name": "stdout",
          "text": [
            "DAYS\n",
            " Sun Thur  Fri  Sat \n",
            "  19   87   76   62 \n"
          ]
        }
      ]
    },
    {
      "cell_type": "code",
      "source": [
        "# Solution_Question_10\n",
        "plot(total_bill_numeric_vector, tip, pch =19, col=c(\"red\",\"green\",\"blue\",\"yellow\")[DAYS])\n",
        "legend(\"topleft\",legend=levels(DAYS), pch=19,col=c(\"red\",\"green\",\"blue\", \"yellow\"))"
      ],
      "metadata": {
        "colab": {
          "base_uri": "https://localhost:8080/",
          "height": 437
        },
        "id": "8IycFzFj1Bh7",
        "outputId": "86871cd0-249d-401e-c991-08eb5015756b"
      },
      "execution_count": null,
      "outputs": [
        {
          "output_type": "display_data",
          "data": {
            "text/plain": [
              "plot without title"
            ],
            "image/png": "[encoded data removed]"
          },
          "metadata": {
            "image/png": {
              "width": 420,
              "height": 420
            }
          }
        }
      ]
    }
  ]
}